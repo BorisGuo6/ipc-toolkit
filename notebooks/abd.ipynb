{
 "cells": [
  {
   "cell_type": "code",
   "execution_count": 36,
   "metadata": {},
   "outputs": [],
   "source": [
    "import sympy\n",
    "import numpy as np"
   ]
  },
  {
   "cell_type": "code",
   "execution_count": 37,
   "metadata": {},
   "outputs": [
    {
     "data": {
      "text/latex": [
       "$\\displaystyle \\left[\\begin{matrix}a_{00} & a_{01} & a_{02}\\\\a_{10} & a_{11} & a_{12}\\\\a_{20} & a_{21} & a_{22}\\end{matrix}\\right]$"
      ],
      "text/plain": [
       "Matrix([\n",
       "[a00, a01, a02],\n",
       "[a10, a11, a12],\n",
       "[a20, a21, a22]])"
      ]
     },
     "metadata": {},
     "output_type": "display_data"
    }
   ],
   "source": [
    "A = sympy.symbols([f\"a{i}{j}\" for i in range(3) for j in range(3)])\n",
    "A = np.array(A).reshape(3, 3)\n",
    "display(sympy.Matrix(A))"
   ]
  },
  {
   "cell_type": "code",
   "execution_count": 38,
   "metadata": {},
   "outputs": [],
   "source": [
    "def frobenius_norm(A):\n",
    "    sum = 0\n",
    "    for i in range(A.shape[0]):\n",
    "        for j in range(A.shape[1]):\n",
    "            sum += A[i, j]**2\n",
    "    return sympy.sqrt(sum)\n",
    "\n",
    "standard_version = frobenius_norm(A @ A.T - np.eye(3))**2"
   ]
  },
  {
   "cell_type": "code",
   "execution_count": 39,
   "metadata": {},
   "outputs": [],
   "source": [
    "paper_version = sum((A[i].dot(A[i]) - 1)**2 for i in range(3)) \\\n",
    " + sum((A[i].dot(A[j]))**2 for i in range(3) for j in range(3) if i != j)"
   ]
  },
  {
   "cell_type": "code",
   "execution_count": 40,
   "metadata": {},
   "outputs": [
    {
     "data": {
      "text/latex": [
       "$\\displaystyle 0$"
      ],
      "text/plain": [
       "0"
      ]
     },
     "execution_count": 40,
     "metadata": {},
     "output_type": "execute_result"
    }
   ],
   "source": [
    "(standard_version - paper_version).simplify()"
   ]
  },
  {
   "cell_type": "code",
   "execution_count": 41,
   "metadata": {},
   "outputs": [
    {
     "data": {
      "text/latex": [
       "$\\displaystyle 12 a_{00}^{2} + 4 a_{01}^{2} + 4 a_{02}^{2} + 4 a_{10}^{2} + 4 a_{20}^{2} - 4.0$"
      ],
      "text/plain": [
       "12*a00**2 + 4*a01**2 + 4*a02**2 + 4*a10**2 + 4*a20**2 - 4.0"
      ]
     },
     "metadata": {},
     "output_type": "display_data"
    },
    {
     "data": {
      "text/latex": [
       "$\\displaystyle 8 a_{00} a_{01} + 4 a_{10} a_{11} + 4 a_{20} a_{21}$"
      ],
      "text/plain": [
       "8*a00*a01 + 4*a10*a11 + 4*a20*a21"
      ]
     },
     "metadata": {},
     "output_type": "display_data"
    },
    {
     "data": {
      "text/latex": [
       "$\\displaystyle 8 a_{00} a_{02} + 4 a_{10} a_{12} + 4 a_{20} a_{22}$"
      ],
      "text/plain": [
       "8*a00*a02 + 4*a10*a12 + 4*a20*a22"
      ]
     },
     "metadata": {},
     "output_type": "display_data"
    },
    {
     "data": {
      "text/latex": [
       "$\\displaystyle 8 a_{00} a_{10} + 4 a_{01} a_{11} + 4 a_{02} a_{12}$"
      ],
      "text/plain": [
       "8*a00*a10 + 4*a01*a11 + 4*a02*a12"
      ]
     },
     "metadata": {},
     "output_type": "display_data"
    },
    {
     "data": {
      "text/latex": [
       "$\\displaystyle 4 a_{01} a_{10}$"
      ],
      "text/plain": [
       "4*a01*a10"
      ]
     },
     "metadata": {},
     "output_type": "display_data"
    },
    {
     "data": {
      "text/latex": [
       "$\\displaystyle 4 a_{02} a_{10}$"
      ],
      "text/plain": [
       "4*a02*a10"
      ]
     },
     "metadata": {},
     "output_type": "display_data"
    },
    {
     "data": {
      "text/latex": [
       "$\\displaystyle 8 a_{00} a_{20} + 4 a_{01} a_{21} + 4 a_{02} a_{22}$"
      ],
      "text/plain": [
       "8*a00*a20 + 4*a01*a21 + 4*a02*a22"
      ]
     },
     "metadata": {},
     "output_type": "display_data"
    },
    {
     "data": {
      "text/latex": [
       "$\\displaystyle 4 a_{01} a_{20}$"
      ],
      "text/plain": [
       "4*a01*a20"
      ]
     },
     "metadata": {},
     "output_type": "display_data"
    },
    {
     "data": {
      "text/latex": [
       "$\\displaystyle 4 a_{02} a_{20}$"
      ],
      "text/plain": [
       "4*a02*a20"
      ]
     },
     "metadata": {},
     "output_type": "display_data"
    },
    {
     "data": {
      "text/latex": [
       "$\\displaystyle 8 a_{00} a_{01} + 4 a_{10} a_{11} + 4 a_{20} a_{21}$"
      ],
      "text/plain": [
       "8*a00*a01 + 4*a10*a11 + 4*a20*a21"
      ]
     },
     "metadata": {},
     "output_type": "display_data"
    },
    {
     "data": {
      "text/latex": [
       "$\\displaystyle 4 a_{00}^{2} + 12 a_{01}^{2} + 4 a_{02}^{2} + 4 a_{11}^{2} + 4 a_{21}^{2} - 4.0$"
      ],
      "text/plain": [
       "4*a00**2 + 12*a01**2 + 4*a02**2 + 4*a11**2 + 4*a21**2 - 4.0"
      ]
     },
     "metadata": {},
     "output_type": "display_data"
    },
    {
     "data": {
      "text/latex": [
       "$\\displaystyle 8 a_{01} a_{02} + 4 a_{11} a_{12} + 4 a_{21} a_{22}$"
      ],
      "text/plain": [
       "8*a01*a02 + 4*a11*a12 + 4*a21*a22"
      ]
     },
     "metadata": {},
     "output_type": "display_data"
    },
    {
     "data": {
      "text/latex": [
       "$\\displaystyle 4 a_{00} a_{11}$"
      ],
      "text/plain": [
       "4*a00*a11"
      ]
     },
     "metadata": {},
     "output_type": "display_data"
    },
    {
     "data": {
      "text/latex": [
       "$\\displaystyle 4 a_{00} a_{10} + 8 a_{01} a_{11} + 4 a_{02} a_{12}$"
      ],
      "text/plain": [
       "4*a00*a10 + 8*a01*a11 + 4*a02*a12"
      ]
     },
     "metadata": {},
     "output_type": "display_data"
    },
    {
     "data": {
      "text/latex": [
       "$\\displaystyle 4 a_{02} a_{11}$"
      ],
      "text/plain": [
       "4*a02*a11"
      ]
     },
     "metadata": {},
     "output_type": "display_data"
    },
    {
     "data": {
      "text/latex": [
       "$\\displaystyle 4 a_{00} a_{21}$"
      ],
      "text/plain": [
       "4*a00*a21"
      ]
     },
     "metadata": {},
     "output_type": "display_data"
    },
    {
     "data": {
      "text/latex": [
       "$\\displaystyle 4 a_{00} a_{20} + 8 a_{01} a_{21} + 4 a_{02} a_{22}$"
      ],
      "text/plain": [
       "4*a00*a20 + 8*a01*a21 + 4*a02*a22"
      ]
     },
     "metadata": {},
     "output_type": "display_data"
    },
    {
     "data": {
      "text/latex": [
       "$\\displaystyle 4 a_{02} a_{21}$"
      ],
      "text/plain": [
       "4*a02*a21"
      ]
     },
     "metadata": {},
     "output_type": "display_data"
    },
    {
     "data": {
      "text/latex": [
       "$\\displaystyle 8 a_{00} a_{02} + 4 a_{10} a_{12} + 4 a_{20} a_{22}$"
      ],
      "text/plain": [
       "8*a00*a02 + 4*a10*a12 + 4*a20*a22"
      ]
     },
     "metadata": {},
     "output_type": "display_data"
    },
    {
     "data": {
      "text/latex": [
       "$\\displaystyle 8 a_{01} a_{02} + 4 a_{11} a_{12} + 4 a_{21} a_{22}$"
      ],
      "text/plain": [
       "8*a01*a02 + 4*a11*a12 + 4*a21*a22"
      ]
     },
     "metadata": {},
     "output_type": "display_data"
    },
    {
     "data": {
      "text/latex": [
       "$\\displaystyle 4 a_{00}^{2} + 4 a_{01}^{2} + 12 a_{02}^{2} + 4 a_{12}^{2} + 4 a_{22}^{2} - 4.0$"
      ],
      "text/plain": [
       "4*a00**2 + 4*a01**2 + 12*a02**2 + 4*a12**2 + 4*a22**2 - 4.0"
      ]
     },
     "metadata": {},
     "output_type": "display_data"
    },
    {
     "data": {
      "text/latex": [
       "$\\displaystyle 4 a_{00} a_{12}$"
      ],
      "text/plain": [
       "4*a00*a12"
      ]
     },
     "metadata": {},
     "output_type": "display_data"
    },
    {
     "data": {
      "text/latex": [
       "$\\displaystyle 4 a_{01} a_{12}$"
      ],
      "text/plain": [
       "4*a01*a12"
      ]
     },
     "metadata": {},
     "output_type": "display_data"
    },
    {
     "data": {
      "text/latex": [
       "$\\displaystyle 4 a_{00} a_{10} + 4 a_{01} a_{11} + 8 a_{02} a_{12}$"
      ],
      "text/plain": [
       "4*a00*a10 + 4*a01*a11 + 8*a02*a12"
      ]
     },
     "metadata": {},
     "output_type": "display_data"
    },
    {
     "data": {
      "text/latex": [
       "$\\displaystyle 4 a_{00} a_{22}$"
      ],
      "text/plain": [
       "4*a00*a22"
      ]
     },
     "metadata": {},
     "output_type": "display_data"
    },
    {
     "data": {
      "text/latex": [
       "$\\displaystyle 4 a_{01} a_{22}$"
      ],
      "text/plain": [
       "4*a01*a22"
      ]
     },
     "metadata": {},
     "output_type": "display_data"
    },
    {
     "data": {
      "text/latex": [
       "$\\displaystyle 4 a_{00} a_{20} + 4 a_{01} a_{21} + 8 a_{02} a_{22}$"
      ],
      "text/plain": [
       "4*a00*a20 + 4*a01*a21 + 8*a02*a22"
      ]
     },
     "metadata": {},
     "output_type": "display_data"
    },
    {
     "data": {
      "text/latex": [
       "$\\displaystyle 8 a_{00} a_{10} + 4 a_{01} a_{11} + 4 a_{02} a_{12}$"
      ],
      "text/plain": [
       "8*a00*a10 + 4*a01*a11 + 4*a02*a12"
      ]
     },
     "metadata": {},
     "output_type": "display_data"
    },
    {
     "data": {
      "text/latex": [
       "$\\displaystyle 4 a_{00} a_{11}$"
      ],
      "text/plain": [
       "4*a00*a11"
      ]
     },
     "metadata": {},
     "output_type": "display_data"
    },
    {
     "data": {
      "text/latex": [
       "$\\displaystyle 4 a_{00} a_{12}$"
      ],
      "text/plain": [
       "4*a00*a12"
      ]
     },
     "metadata": {},
     "output_type": "display_data"
    },
    {
     "data": {
      "text/latex": [
       "$\\displaystyle 4 a_{00}^{2} + 12 a_{10}^{2} + 4 a_{11}^{2} + 4 a_{12}^{2} + 4 a_{20}^{2} - 4.0$"
      ],
      "text/plain": [
       "4*a00**2 + 12*a10**2 + 4*a11**2 + 4*a12**2 + 4*a20**2 - 4.0"
      ]
     },
     "metadata": {},
     "output_type": "display_data"
    },
    {
     "data": {
      "text/latex": [
       "$\\displaystyle 4 a_{00} a_{01} + 8 a_{10} a_{11} + 4 a_{20} a_{21}$"
      ],
      "text/plain": [
       "4*a00*a01 + 8*a10*a11 + 4*a20*a21"
      ]
     },
     "metadata": {},
     "output_type": "display_data"
    },
    {
     "data": {
      "text/latex": [
       "$\\displaystyle 4 a_{00} a_{02} + 8 a_{10} a_{12} + 4 a_{20} a_{22}$"
      ],
      "text/plain": [
       "4*a00*a02 + 8*a10*a12 + 4*a20*a22"
      ]
     },
     "metadata": {},
     "output_type": "display_data"
    },
    {
     "data": {
      "text/latex": [
       "$\\displaystyle 8 a_{10} a_{20} + 4 a_{11} a_{21} + 4 a_{12} a_{22}$"
      ],
      "text/plain": [
       "8*a10*a20 + 4*a11*a21 + 4*a12*a22"
      ]
     },
     "metadata": {},
     "output_type": "display_data"
    },
    {
     "data": {
      "text/latex": [
       "$\\displaystyle 4 a_{11} a_{20}$"
      ],
      "text/plain": [
       "4*a11*a20"
      ]
     },
     "metadata": {},
     "output_type": "display_data"
    },
    {
     "data": {
      "text/latex": [
       "$\\displaystyle 4 a_{12} a_{20}$"
      ],
      "text/plain": [
       "4*a12*a20"
      ]
     },
     "metadata": {},
     "output_type": "display_data"
    },
    {
     "data": {
      "text/latex": [
       "$\\displaystyle 4 a_{01} a_{10}$"
      ],
      "text/plain": [
       "4*a01*a10"
      ]
     },
     "metadata": {},
     "output_type": "display_data"
    },
    {
     "data": {
      "text/latex": [
       "$\\displaystyle 4 a_{00} a_{10} + 8 a_{01} a_{11} + 4 a_{02} a_{12}$"
      ],
      "text/plain": [
       "4*a00*a10 + 8*a01*a11 + 4*a02*a12"
      ]
     },
     "metadata": {},
     "output_type": "display_data"
    },
    {
     "data": {
      "text/latex": [
       "$\\displaystyle 4 a_{01} a_{12}$"
      ],
      "text/plain": [
       "4*a01*a12"
      ]
     },
     "metadata": {},
     "output_type": "display_data"
    },
    {
     "data": {
      "text/latex": [
       "$\\displaystyle 4 a_{00} a_{01} + 8 a_{10} a_{11} + 4 a_{20} a_{21}$"
      ],
      "text/plain": [
       "4*a00*a01 + 8*a10*a11 + 4*a20*a21"
      ]
     },
     "metadata": {},
     "output_type": "display_data"
    },
    {
     "data": {
      "text/latex": [
       "$\\displaystyle 4 a_{01}^{2} + 4 a_{10}^{2} + 12 a_{11}^{2} + 4 a_{12}^{2} + 4 a_{21}^{2} - 4.0$"
      ],
      "text/plain": [
       "4*a01**2 + 4*a10**2 + 12*a11**2 + 4*a12**2 + 4*a21**2 - 4.0"
      ]
     },
     "metadata": {},
     "output_type": "display_data"
    },
    {
     "data": {
      "text/latex": [
       "$\\displaystyle 4 a_{01} a_{02} + 8 a_{11} a_{12} + 4 a_{21} a_{22}$"
      ],
      "text/plain": [
       "4*a01*a02 + 8*a11*a12 + 4*a21*a22"
      ]
     },
     "metadata": {},
     "output_type": "display_data"
    },
    {
     "data": {
      "text/latex": [
       "$\\displaystyle 4 a_{10} a_{21}$"
      ],
      "text/plain": [
       "4*a10*a21"
      ]
     },
     "metadata": {},
     "output_type": "display_data"
    },
    {
     "data": {
      "text/latex": [
       "$\\displaystyle 4 a_{10} a_{20} + 8 a_{11} a_{21} + 4 a_{12} a_{22}$"
      ],
      "text/plain": [
       "4*a10*a20 + 8*a11*a21 + 4*a12*a22"
      ]
     },
     "metadata": {},
     "output_type": "display_data"
    },
    {
     "data": {
      "text/latex": [
       "$\\displaystyle 4 a_{12} a_{21}$"
      ],
      "text/plain": [
       "4*a12*a21"
      ]
     },
     "metadata": {},
     "output_type": "display_data"
    },
    {
     "data": {
      "text/latex": [
       "$\\displaystyle 4 a_{02} a_{10}$"
      ],
      "text/plain": [
       "4*a02*a10"
      ]
     },
     "metadata": {},
     "output_type": "display_data"
    },
    {
     "data": {
      "text/latex": [
       "$\\displaystyle 4 a_{02} a_{11}$"
      ],
      "text/plain": [
       "4*a02*a11"
      ]
     },
     "metadata": {},
     "output_type": "display_data"
    },
    {
     "data": {
      "text/latex": [
       "$\\displaystyle 4 a_{00} a_{10} + 4 a_{01} a_{11} + 8 a_{02} a_{12}$"
      ],
      "text/plain": [
       "4*a00*a10 + 4*a01*a11 + 8*a02*a12"
      ]
     },
     "metadata": {},
     "output_type": "display_data"
    },
    {
     "data": {
      "text/latex": [
       "$\\displaystyle 4 a_{00} a_{02} + 8 a_{10} a_{12} + 4 a_{20} a_{22}$"
      ],
      "text/plain": [
       "4*a00*a02 + 8*a10*a12 + 4*a20*a22"
      ]
     },
     "metadata": {},
     "output_type": "display_data"
    },
    {
     "data": {
      "text/latex": [
       "$\\displaystyle 4 a_{01} a_{02} + 8 a_{11} a_{12} + 4 a_{21} a_{22}$"
      ],
      "text/plain": [
       "4*a01*a02 + 8*a11*a12 + 4*a21*a22"
      ]
     },
     "metadata": {},
     "output_type": "display_data"
    },
    {
     "data": {
      "text/latex": [
       "$\\displaystyle 4 a_{02}^{2} + 4 a_{10}^{2} + 4 a_{11}^{2} + 12 a_{12}^{2} + 4 a_{22}^{2} - 4.0$"
      ],
      "text/plain": [
       "4*a02**2 + 4*a10**2 + 4*a11**2 + 12*a12**2 + 4*a22**2 - 4.0"
      ]
     },
     "metadata": {},
     "output_type": "display_data"
    },
    {
     "data": {
      "text/latex": [
       "$\\displaystyle 4 a_{10} a_{22}$"
      ],
      "text/plain": [
       "4*a10*a22"
      ]
     },
     "metadata": {},
     "output_type": "display_data"
    },
    {
     "data": {
      "text/latex": [
       "$\\displaystyle 4 a_{11} a_{22}$"
      ],
      "text/plain": [
       "4*a11*a22"
      ]
     },
     "metadata": {},
     "output_type": "display_data"
    },
    {
     "data": {
      "text/latex": [
       "$\\displaystyle 4 a_{10} a_{20} + 4 a_{11} a_{21} + 8 a_{12} a_{22}$"
      ],
      "text/plain": [
       "4*a10*a20 + 4*a11*a21 + 8*a12*a22"
      ]
     },
     "metadata": {},
     "output_type": "display_data"
    },
    {
     "data": {
      "text/latex": [
       "$\\displaystyle 8 a_{00} a_{20} + 4 a_{01} a_{21} + 4 a_{02} a_{22}$"
      ],
      "text/plain": [
       "8*a00*a20 + 4*a01*a21 + 4*a02*a22"
      ]
     },
     "metadata": {},
     "output_type": "display_data"
    },
    {
     "data": {
      "text/latex": [
       "$\\displaystyle 4 a_{00} a_{21}$"
      ],
      "text/plain": [
       "4*a00*a21"
      ]
     },
     "metadata": {},
     "output_type": "display_data"
    },
    {
     "data": {
      "text/latex": [
       "$\\displaystyle 4 a_{00} a_{22}$"
      ],
      "text/plain": [
       "4*a00*a22"
      ]
     },
     "metadata": {},
     "output_type": "display_data"
    },
    {
     "data": {
      "text/latex": [
       "$\\displaystyle 8 a_{10} a_{20} + 4 a_{11} a_{21} + 4 a_{12} a_{22}$"
      ],
      "text/plain": [
       "8*a10*a20 + 4*a11*a21 + 4*a12*a22"
      ]
     },
     "metadata": {},
     "output_type": "display_data"
    },
    {
     "data": {
      "text/latex": [
       "$\\displaystyle 4 a_{10} a_{21}$"
      ],
      "text/plain": [
       "4*a10*a21"
      ]
     },
     "metadata": {},
     "output_type": "display_data"
    },
    {
     "data": {
      "text/latex": [
       "$\\displaystyle 4 a_{10} a_{22}$"
      ],
      "text/plain": [
       "4*a10*a22"
      ]
     },
     "metadata": {},
     "output_type": "display_data"
    },
    {
     "data": {
      "text/latex": [
       "$\\displaystyle 4 a_{00}^{2} + 4 a_{10}^{2} + 12 a_{20}^{2} + 4 a_{21}^{2} + 4 a_{22}^{2} - 4.0$"
      ],
      "text/plain": [
       "4*a00**2 + 4*a10**2 + 12*a20**2 + 4*a21**2 + 4*a22**2 - 4.0"
      ]
     },
     "metadata": {},
     "output_type": "display_data"
    },
    {
     "data": {
      "text/latex": [
       "$\\displaystyle 4 a_{00} a_{01} + 4 a_{10} a_{11} + 8 a_{20} a_{21}$"
      ],
      "text/plain": [
       "4*a00*a01 + 4*a10*a11 + 8*a20*a21"
      ]
     },
     "metadata": {},
     "output_type": "display_data"
    },
    {
     "data": {
      "text/latex": [
       "$\\displaystyle 4 a_{00} a_{02} + 4 a_{10} a_{12} + 8 a_{20} a_{22}$"
      ],
      "text/plain": [
       "4*a00*a02 + 4*a10*a12 + 8*a20*a22"
      ]
     },
     "metadata": {},
     "output_type": "display_data"
    },
    {
     "data": {
      "text/latex": [
       "$\\displaystyle 4 a_{01} a_{20}$"
      ],
      "text/plain": [
       "4*a01*a20"
      ]
     },
     "metadata": {},
     "output_type": "display_data"
    },
    {
     "data": {
      "text/latex": [
       "$\\displaystyle 4 a_{00} a_{20} + 8 a_{01} a_{21} + 4 a_{02} a_{22}$"
      ],
      "text/plain": [
       "4*a00*a20 + 8*a01*a21 + 4*a02*a22"
      ]
     },
     "metadata": {},
     "output_type": "display_data"
    },
    {
     "data": {
      "text/latex": [
       "$\\displaystyle 4 a_{01} a_{22}$"
      ],
      "text/plain": [
       "4*a01*a22"
      ]
     },
     "metadata": {},
     "output_type": "display_data"
    },
    {
     "data": {
      "text/latex": [
       "$\\displaystyle 4 a_{11} a_{20}$"
      ],
      "text/plain": [
       "4*a11*a20"
      ]
     },
     "metadata": {},
     "output_type": "display_data"
    },
    {
     "data": {
      "text/latex": [
       "$\\displaystyle 4 a_{10} a_{20} + 8 a_{11} a_{21} + 4 a_{12} a_{22}$"
      ],
      "text/plain": [
       "4*a10*a20 + 8*a11*a21 + 4*a12*a22"
      ]
     },
     "metadata": {},
     "output_type": "display_data"
    },
    {
     "data": {
      "text/latex": [
       "$\\displaystyle 4 a_{11} a_{22}$"
      ],
      "text/plain": [
       "4*a11*a22"
      ]
     },
     "metadata": {},
     "output_type": "display_data"
    },
    {
     "data": {
      "text/latex": [
       "$\\displaystyle 4 a_{00} a_{01} + 4 a_{10} a_{11} + 8 a_{20} a_{21}$"
      ],
      "text/plain": [
       "4*a00*a01 + 4*a10*a11 + 8*a20*a21"
      ]
     },
     "metadata": {},
     "output_type": "display_data"
    },
    {
     "data": {
      "text/latex": [
       "$\\displaystyle 4 a_{01}^{2} + 4 a_{11}^{2} + 4 a_{20}^{2} + 12 a_{21}^{2} + 4 a_{22}^{2} - 4.0$"
      ],
      "text/plain": [
       "4*a01**2 + 4*a11**2 + 4*a20**2 + 12*a21**2 + 4*a22**2 - 4.0"
      ]
     },
     "metadata": {},
     "output_type": "display_data"
    },
    {
     "data": {
      "text/latex": [
       "$\\displaystyle 4 a_{01} a_{02} + 4 a_{11} a_{12} + 8 a_{21} a_{22}$"
      ],
      "text/plain": [
       "4*a01*a02 + 4*a11*a12 + 8*a21*a22"
      ]
     },
     "metadata": {},
     "output_type": "display_data"
    },
    {
     "data": {
      "text/latex": [
       "$\\displaystyle 4 a_{02} a_{20}$"
      ],
      "text/plain": [
       "4*a02*a20"
      ]
     },
     "metadata": {},
     "output_type": "display_data"
    },
    {
     "data": {
      "text/latex": [
       "$\\displaystyle 4 a_{02} a_{21}$"
      ],
      "text/plain": [
       "4*a02*a21"
      ]
     },
     "metadata": {},
     "output_type": "display_data"
    },
    {
     "data": {
      "text/latex": [
       "$\\displaystyle 4 a_{00} a_{20} + 4 a_{01} a_{21} + 8 a_{02} a_{22}$"
      ],
      "text/plain": [
       "4*a00*a20 + 4*a01*a21 + 8*a02*a22"
      ]
     },
     "metadata": {},
     "output_type": "display_data"
    },
    {
     "data": {
      "text/latex": [
       "$\\displaystyle 4 a_{12} a_{20}$"
      ],
      "text/plain": [
       "4*a12*a20"
      ]
     },
     "metadata": {},
     "output_type": "display_data"
    },
    {
     "data": {
      "text/latex": [
       "$\\displaystyle 4 a_{12} a_{21}$"
      ],
      "text/plain": [
       "4*a12*a21"
      ]
     },
     "metadata": {},
     "output_type": "display_data"
    },
    {
     "data": {
      "text/latex": [
       "$\\displaystyle 4 a_{10} a_{20} + 4 a_{11} a_{21} + 8 a_{12} a_{22}$"
      ],
      "text/plain": [
       "4*a10*a20 + 4*a11*a21 + 8*a12*a22"
      ]
     },
     "metadata": {},
     "output_type": "display_data"
    },
    {
     "data": {
      "text/latex": [
       "$\\displaystyle 4 a_{00} a_{02} + 4 a_{10} a_{12} + 8 a_{20} a_{22}$"
      ],
      "text/plain": [
       "4*a00*a02 + 4*a10*a12 + 8*a20*a22"
      ]
     },
     "metadata": {},
     "output_type": "display_data"
    },
    {
     "data": {
      "text/latex": [
       "$\\displaystyle 4 a_{01} a_{02} + 4 a_{11} a_{12} + 8 a_{21} a_{22}$"
      ],
      "text/plain": [
       "4*a01*a02 + 4*a11*a12 + 8*a21*a22"
      ]
     },
     "metadata": {},
     "output_type": "display_data"
    },
    {
     "data": {
      "text/latex": [
       "$\\displaystyle 4 a_{02}^{2} + 4 a_{12}^{2} + 4 a_{20}^{2} + 4 a_{21}^{2} + 12 a_{22}^{2} - 4.0$"
      ],
      "text/plain": [
       "4*a02**2 + 4*a12**2 + 4*a20**2 + 4*a21**2 + 12*a22**2 - 4.0"
      ]
     },
     "metadata": {},
     "output_type": "display_data"
    }
   ],
   "source": [
    "for i in range(9):\n",
    "    for j in range(9):\n",
    "        display(standard_version.diff(A[i//3, i%3]).diff(A[j//3, j%3]))"
   ]
  },
  {
   "cell_type": "code",
   "execution_count": null,
   "metadata": {},
   "outputs": [],
   "source": []
  }
 ],
 "metadata": {
  "kernelspec": {
   "display_name": "Python 3",
   "language": "python",
   "name": "python3"
  },
  "language_info": {
   "codemirror_mode": {
    "name": "ipython",
    "version": 3
   },
   "file_extension": ".py",
   "mimetype": "text/x-python",
   "name": "python",
   "nbconvert_exporter": "python",
   "pygments_lexer": "ipython3",
   "version": "3.11.7"
  }
 },
 "nbformat": 4,
 "nbformat_minor": 2
}
